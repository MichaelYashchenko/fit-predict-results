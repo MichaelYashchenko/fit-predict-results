{
 "cells": [
  {
   "cell_type": "code",
   "execution_count": null,
   "id": "d3eebb58",
   "metadata": {
    "cellId": "1g8benc8wexeu5pxhmbqo",
    "execution_id": "de68182c-659f-41a3-a9a2-7da96a57932a"
   },
   "outputs": [],
   "source": [
    "print('Hello world!')"
   ]
  },
  {
   "cell_type": "code",
   "execution_count": null,
   "id": "5f7edde6",
   "metadata": {
    "cellId": "o6dq4rcd4davsehylmbkvl"
   },
   "outputs": [],
   "source": []
  }
 ],
 "metadata": {
  "language_info": {
   "codemirror_mode": {
    "name": "ipython",
    "version": 3
   },
   "file_extension": ".py",
   "mimetype": "text/x-python",
   "name": "python",
   "nbconvert_exporter": "python",
   "pygments_lexer": "ipython3",
   "version": "3.7.7"
  },
  "notebookId": "fb9a7095-f9a4-424d-b80d-2fd3e97d4502",
  "notebookPath": "git_test/Untitled.ipynb"
 },
 "nbformat": 4,
 "nbformat_minor": 5
}
